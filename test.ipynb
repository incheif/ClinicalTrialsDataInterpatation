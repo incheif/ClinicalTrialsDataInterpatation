{
 "cells": [
  {
   "cell_type": "code",
   "execution_count": null,
   "metadata": {},
   "outputs": [],
   "source": [
    "import json\n",
    "import pandas as pd\n",
    "\n",
    "# Load the JSON data from the file\n",
    "with open('data.json', 'r', encoding='utf-8') as file:\n",
    "    data = json.load(file)\n",
    "\n",
    "# List to store individual ClinicalTest DataFrames\n",
    "ClinicalTest_dfs = []\n",
    "\n",
    "def flatten(data, prefix=''):\n",
    "    \"\"\"\n",
    "    Function to flatten nested JSON structure\n",
    "    \"\"\"\n",
    "    flattened_data = {}\n",
    "    if isinstance(data, dict):\n",
    "        for key, value in data.items():\n",
    "            flattened_data.update(flatten(value, prefix + key + '_'))\n",
    "    elif isinstance(data, list):\n",
    "        for i, value in enumerate(data):\n",
    "            flattened_data.update(flatten(value, prefix + str(i) + '_'))\n",
    "    else:\n",
    "        flattened_data[prefix[:-1]] = data\n",
    "    return flattened_data\n",
    "\n",
    "# Create DataFrame for each ClinicalTest\n",
    "for ClinicalTest_data in data:\n",
    "    flattened_ClinicalTest_data = flatten(ClinicalTest_data)\n",
    "    ClinicalTest_df = pd.DataFrame(flattened_ClinicalTest_data, index=[0])  # Create DataFrame with single row\n",
    "    ClinicalTest_dfs.append(ClinicalTest_df)\n",
    "\n",
    "# Combine individual ClinicalTest DataFrames into a single DataFrame\n",
    "combined_df = pd.concat(ClinicalTest_dfs, ignore_index=True)\n",
    "\n",
    "\n"
   ]
  },
  {
   "cell_type": "code",
   "execution_count": null,
   "metadata": {},
   "outputs": [],
   "source": [
    "combined_df.columns"
   ]
  },
  {
   "cell_type": "code",
   "execution_count": null,
   "metadata": {},
   "outputs": [],
   "source": [
    "combined_df.to_csv('output.csv', index=False)  # Save the DataFrame to a CSV file"
   ]
  },
  {
   "cell_type": "code",
   "execution_count": null,
   "metadata": {},
   "outputs": [],
   "source": [
    "mena_countries = [\n",
    "    'Algeria', 'Bahrain', 'Comoros', 'Djibouti', 'Egypt', 'Iran', 'Iraq',\n",
    "    'Israel', 'Jordan', 'Kuwait', 'Lebanon', 'Libya', 'Mauritania', 'Morocco',\n",
    "    'Oman', 'Palestine', 'Qatar', 'Saudi Arabia', 'Somalia', 'Sudan', 'Syria',\n",
    "    'Tunisia', 'United Arab Emirates', 'Yemen'\n",
    "]\n",
    "cis_countries = [\n",
    "    'Armenia', 'Azerbaijan', 'Belarus', 'Kazakhstan', 'Kyrgyzstan',\n",
    "    'Moldova', 'Russia', 'Tajikistan', 'Turkmenistan', 'Ukraine', 'Uzbekistan'\n",
    "]\n",
    "latam_countries = [\n",
    "    'Argentina', 'Bahamas', 'Barbados', 'Belize', 'Bolivia', 'Brazil', 'Chile',\n",
    "    'Colombia', 'Costa Rica', 'Cuba', 'Dominica', 'Dominican Republic', 'Ecuador',\n",
    "    'El Salvador', 'Grenada', 'Guatemala', 'Guyana', 'Haiti', 'Honduras', 'Jamaica',\n",
    "    'Mexico', 'Nicaragua', 'Panama', 'Paraguay', 'Peru', 'Saint Kitts and Nevis',\n",
    "    'Saint Lucia', 'Saint Vincent and the Grenadines', 'Suriname', 'Trinidad and Tobago',\n",
    "    'Uruguay', 'Venezuela'\n",
    "]\n",
    "indian_subcontinent_countries = [\n",
    "    'Afganistan','Bangladesh', 'Bhutan', 'India', 'Maldives', 'Nepal', 'Pakistan', 'Sri Lanka'\n",
    "]\n",
    "sub_saharan_africa_countries = [\n",
    "    'Angola', 'Benin', 'Botswana', 'Burkina Faso', 'Burundi', 'Cabo Verde',\n",
    "    'Cameroon', 'Central African Republic', 'Chad', 'Comoros', 'Congo, Dem. Rep.',\n",
    "    'Congo, Rep.', 'Côte d\\'Ivoire', 'Djibouti', 'Equatorial Guinea', 'Eritrea',\n",
    "    'Eswatini', 'Ethiopia', 'Gabon', 'Gambia', 'Ghana', 'Guinea', 'Guinea-Bissau',\n",
    "    'Kenya', 'Lesotho', 'Liberia', 'Madagascar', 'Malawi', 'Mali',\n",
    "    'Mauritius', 'Mozambique', 'Namibia', 'Niger', 'Nigeria', 'Rwanda',\n",
    "    'Sao Tome and Principe', 'Senegal', 'Seychelles', 'Sierra Leone',\n",
    "    'Somalia', 'South Africa', 'South Sudan', 'Sudan', 'Tanzania',\n",
    "    'Togo', 'Uganda', 'Zambia', 'Zimbabwe'\n",
    "]\n",
    "europe_countries = [\n",
    "    'Albania', 'Andorra', 'Armenia', 'Austria', 'Azerbaijan', 'Belarus', 'Belgium',\n",
    "    'Bosnia and Herzegovina', 'Bulgaria', 'Croatia', 'Cyprus', 'Czech Republic',\n",
    "    'Denmark', 'Estonia', 'Finland', 'France', 'Georgia', 'Germany', 'Greece',\n",
    "    'Hungary', 'Iceland', 'Ireland', 'Italy', 'Kazakhstan', 'Kosovo', 'Latvia',\n",
    "    'Liechtenstein', 'Lithuania', 'Luxembourg', 'Malta', 'Moldova', 'Monaco',\n",
    "    'Montenegro', 'Netherlands', 'North Macedonia', 'Norway', 'Poland', 'Portugal',\n",
    "    'Romania', 'Russia', 'San Marino', 'Serbia', 'Slovakia', 'Slovenia', 'Spain',\n",
    "    'Sweden', 'Switzerland', 'Turkey', 'Ukraine', 'United Kingdom', 'Vatican City'\n",
    "]\n",
    "east_asia_countries = [\n",
    "    'China', 'Hong Kong SAR, China', 'Japan', 'Mongolia', 'South Korea', 'Taiwan, China'\n",
    "]\n",
    "oceania_countries = [\n",
    "    'Australia', 'Fiji', 'Kiribati', 'Marshall Islands', 'Micronesia', 'Nauru',\n",
    "    'New Zealand', 'Palau', 'Papua New Guinea', 'Samoa', 'Solomon Islands',\n",
    "    'Tonga', 'Tuvalu', 'Vanuatu'\n",
    "]\n",
    "southeast_asia_countries = [\n",
    "    'Brunei Darussalam', 'Cambodia', 'Indonesia', 'Laos', 'Malaysia',\n",
    "    'Myanmar', 'Philippines', 'Singapore', 'Thailand', 'Timor-Leste', 'Vietnam'\n",
    "]\n",
    "us_canada_region = ['Puerto Rico', 'Hawaii', 'United States', 'Canada']\n"
   ]
  },
  {
   "cell_type": "code",
   "execution_count": null,
   "metadata": {},
   "outputs": [],
   "source": [
    "combined_df['us_canada_region'] = 0\n",
    "combined_df['mena_region'] = 0\n",
    "combined_df['cis_region'] = 0\n",
    "combined_df['latam_region'] = 0\n",
    "combined_df['indian_subcontinent_region'] = 0\n",
    "combined_df['sub_saharan_africa_region'] = 0\n",
    "combined_df['europe_region'] = 0\n",
    "combined_df['east_asia_region'] = 0\n",
    "combined_df['oceania_region'] = 0\n",
    "combined_df['southeast_asia_region'] = 0\n"
   ]
  },
  {
   "cell_type": "code",
   "execution_count": null,
   "metadata": {},
   "outputs": [],
   "source": [
    "i=1\n",
    "x='protocolSection_contactsLocationsModule_locations_'+str(i)+'_country'"
   ]
  },
  {
   "cell_type": "code",
   "execution_count": null,
   "metadata": {},
   "outputs": [],
   "source": [
    "#optimal approach usning vectorization and avoiding use of double for loop\n",
    "# List of country sets and corresponding region columns\n",
    "region_info = [\n",
    "    ('us_canada_region', us_canada_region),\n",
    "    ('mena_region', mena_countries),\n",
    "    ('cis_region', cis_countries),\n",
    "    ('latam_region', latam_countries),\n",
    "    ('indian_subcontinent_region', indian_subcontinent_countries),\n",
    "    ('sub_saharan_africa_region', sub_saharan_africa_countries),\n",
    "    ('europe_region', europe_countries),\n",
    "    ('east_asia_region', east_asia_countries),\n",
    "    ('oceania_region', oceania_countries),\n",
    "    ('southeast_asia_region', southeast_asia_countries)\n",
    "]\n",
    "\n",
    "# Iterate over the columns\n",
    "i = 0\n",
    "x = 'protocolSection_contactsLocationsModule_locations_' + str(i) + '_country'\n",
    "while x in combined_df.columns:\n",
    "    for region_column, country_set in region_info:\n",
    "        combined_df[region_column] += combined_df[x].apply(lambda country: 1 if country in country_set else 0)\n",
    "    i += 1\n",
    "    x = 'protocolSection_contactsLocationsModule_locations_' + str(i) + '_country'\n"
   ]
  },
  {
   "cell_type": "code",
   "execution_count": null,
   "metadata": {},
   "outputs": [],
   "source": [
    "location_df=pd.concat([combined_df['protocolSection_identificationModule_nctId'],combined_df['us_canada_region'],combined_df['mena_region'],combined_df['cis_region'],combined_df['latam_region'],combined_df['indian_subcontinent_region'],combined_df['sub_saharan_africa_region'],combined_df['europe_region'],combined_df['east_asia_region'],combined_df['oceania_region'],combined_df['southeast_asia_region']],axis=1)"
   ]
  },
  {
   "cell_type": "code",
   "execution_count": null,
   "metadata": {},
   "outputs": [],
   "source": [
    "location_df[55:70]"
   ]
  },
  {
   "cell_type": "code",
   "execution_count": null,
   "metadata": {},
   "outputs": [],
   "source": [
    "location_df.to_csv('location_countries.csv', index=False)  # Save the DataFrame to a CSV file"
   ]
  },
  {
   "cell_type": "code",
   "execution_count": null,
   "metadata": {},
   "outputs": [],
   "source": [
    "primary_outcomes = combined_df.filter(like='protocolSection_outcomesModule_primaryOutcomes_', axis=1)\n",
    "secondary_outcomes = combined_df.filter(like='protocolSection_outcomesModule_secondaryOutcomes_', axis=1)\n",
    "other_outcomes = combined_df.filter(like='protocolSection_outcomesModule_otherOutcomes_', axis=1)\n",
    "outcomes=pd.concat([primary_outcomes,secondary_outcomes,other_outcomes],axis=1)\n",
    "outcomes.to_csv('outcomes.csv', index=True)  # Save the DataFrame to a CSV file"
   ]
  },
  {
   "cell_type": "code",
   "execution_count": null,
   "metadata": {},
   "outputs": [],
   "source": [
    "combined_df.set_index('protocolSection_identificationModule_nctId',inplace=True)"
   ]
  }
 ],
 "metadata": {
  "kernelspec": {
   "display_name": "Python 3",
   "language": "python",
   "name": "python3"
  },
  "language_info": {
   "codemirror_mode": {
    "name": "ipython",
    "version": 3
   },
   "file_extension": ".py",
   "mimetype": "text/x-python",
   "name": "python",
   "nbconvert_exporter": "python",
   "pygments_lexer": "ipython3",
   "version": "3.10.4"
  }
 },
 "nbformat": 4,
 "nbformat_minor": 2
}
